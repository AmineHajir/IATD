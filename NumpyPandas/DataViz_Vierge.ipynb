{
 "cells": [
  {
   "cell_type": "markdown",
   "metadata": {},
   "source": [
    "# Pandas Built-in Data Visualization"
   ]
  },
  {
   "cell_type": "code",
   "execution_count": 33,
   "metadata": {},
   "outputs": [],
   "source": [
    "import numpy as np\n",
    "import pandas as pd\n",
    "%matplotlib inline"
   ]
  },
  {
   "cell_type": "code",
   "execution_count": 34,
   "metadata": {},
   "outputs": [],
   "source": [
    "#read df1 and df2 csv files from your camputer (set the first column of df1 as index column)\n"
   ]
  },
  {
   "cell_type": "code",
   "execution_count": 35,
   "metadata": {},
   "outputs": [],
   "source": [
    "#show the first few rows from df1 and df2\n"
   ]
  },
  {
   "cell_type": "code",
   "execution_count": null,
   "metadata": {},
   "outputs": [],
   "source": []
  },
  {
   "cell_type": "markdown",
   "metadata": {},
   "source": [
    "#here is the information that you guys need for dealing with plots\n",
    "# Plot Types\n",
    "\n",
    "There are several plot types built into pandas; most of them are statistical by nature:\n",
    "\n",
    "<pre>\n",
    "df.plot.hist()     histogram\n",
    "df.plot.bar()      bar chart\n",
    "df.plot.barh()     horizontal bar chart\n",
    "df.plot.line()     line chart\n",
    "df.plot.area()     area chart\n",
    "df.plot.scatter()  scatter plot\n",
    "df.plot.box()      box plot\n",
    "df.plot.kde()      kde plot\n",
    "df.plot.hexbin()   hexagonal bin plot\n",
    "df.plot.pie()      pie chart</pre>\n",
    "\n",
    "You can also call specific plots by passing their name as an argument, as with `df.plot(kind='area')`.\n",
    "\n",
    "Let's start going through them! First we'll look at the data:"
   ]
  },
  {
   "cell_type": "code",
   "execution_count": 36,
   "metadata": {},
   "outputs": [],
   "source": [
    "#plot the histogram of df1 col A\n"
   ]
  },
  {
   "cell_type": "code",
   "execution_count": 37,
   "metadata": {},
   "outputs": [],
   "source": [
    "#bring the x- and y-axis values to the edge of the graph, and insert lines between vertical bins\n"
   ]
  },
  {
   "cell_type": "code",
   "execution_count": 38,
   "metadata": {},
   "outputs": [],
   "source": [
    "#change the number of bins\n",
    "\n",
    "#######\n",
    "#You can use any matplotlib color spec for edgecolor, \n",
    "#such as 'b', 'g', 'r', 'c', 'm', 'y', 'k', 'w', or the string representation of a float value for \n",
    "#shades of grey, such as '0.5'\n",
    "#For autoscale the axis can be set to 'x', 'y' or 'both'\n",
    "######\n",
    "\n",
    "\n"
   ]
  },
  {
   "cell_type": "code",
   "execution_count": 39,
   "metadata": {},
   "outputs": [],
   "source": [
    "#Barplots are similar to histograms, except that they deal with discrete data, and often reflect multiple variables\n",
    "#show the barplot for df2 also show the horizontal bar plot as well\n"
   ]
  },
  {
   "cell_type": "code",
   "execution_count": 40,
   "metadata": {},
   "outputs": [],
   "source": [
    "#show the horizontal bar plot \n"
   ]
  },
  {
   "cell_type": "code",
   "execution_count": 41,
   "metadata": {},
   "outputs": [],
   "source": [
    "#USE .bar() and show the stacked version of your bar plot\n"
   ]
  },
  {
   "cell_type": "code",
   "execution_count": 42,
   "metadata": {},
   "outputs": [],
   "source": [
    "#Line plots are used to compare two or more variables. By default the x-axis values are taken from the index\n",
    "#show the barplot for df2 col a\n"
   ]
  },
  {
   "cell_type": "code",
   "execution_count": 43,
   "metadata": {},
   "outputs": [],
   "source": [
    "#compair the col a, b, c from df2 with bar plot\n"
   ]
  },
  {
   "cell_type": "code",
   "execution_count": 44,
   "metadata": {},
   "outputs": [],
   "source": [
    "#Area plots represent cumulatively stacked line plots where the space between lines is emphasized with colors\n",
    "#show the area plot for df2\n"
   ]
  },
  {
   "cell_type": "code",
   "execution_count": 45,
   "metadata": {},
   "outputs": [],
   "source": [
    "#Scatter plots are a useful tool to quickly compare two variables, and to look for possible trends\n",
    "#show the scatter plot from df1 for col A and B\n"
   ]
  },
  {
   "cell_type": "code",
   "execution_count": 46,
   "metadata": {},
   "outputs": [],
   "source": [
    "#show the same scatter plot plus colormaps\n"
   ]
  },
  {
   "cell_type": "code",
   "execution_count": 47,
   "metadata": {},
   "outputs": [],
   "source": [
    "#show the same box plot for df2\n"
   ]
  },
  {
   "cell_type": "code",
   "execution_count": 48,
   "metadata": {},
   "outputs": [],
   "source": [
    "#show the boxplot for col b and e grouped by col e\n",
    "\n"
   ]
  },
  {
   "cell_type": "code",
   "execution_count": 49,
   "metadata": {},
   "outputs": [],
   "source": [
    "#use kernel density estimation plot and show the densitity of column a in df2\n"
   ]
  },
  {
   "cell_type": "code",
   "execution_count": 50,
   "metadata": {},
   "outputs": [],
   "source": [
    "#show the density of all columns with kde plot for df2\n"
   ]
  },
  {
   "cell_type": "code",
   "execution_count": 51,
   "metadata": {},
   "outputs": [],
   "source": [
    "#use the below line of code and show the hexagonal bin plot for the generated number\n",
    "\n",
    "#hexagonal bin plot is useful for Bivariate Data, alternative to scatterplot\n",
    "\n",
    "# FIRST CREATE A DATAFRAME OF RANDOM VALUES\n",
    "df = pd.DataFrame(np.random.randn(1000, 2), columns=['a', 'b'])\n",
    "\n",
    "\n"
   ]
  },
  {
   "cell_type": "code",
   "execution_count": 52,
   "metadata": {},
   "outputs": [],
   "source": [
    "# MAKE A HEXAGONAL BIN PLOT\n"
   ]
  },
  {
   "cell_type": "markdown",
   "metadata": {},
   "source": [
    "# Customizing Pandas Plots"
   ]
  },
  {
   "cell_type": "code",
   "execution_count": 53,
   "metadata": {},
   "outputs": [],
   "source": [
    "import pandas as pd\n",
    "%matplotlib inline\n",
    "\n",
    "df2 = pd.read_csv('df2.csv')"
   ]
  },
  {
   "cell_type": "code",
   "execution_count": 54,
   "metadata": {},
   "outputs": [],
   "source": [
    "#Colors, Widths and Linestyles\n",
    "#show the line plot of col c from df2\n"
   ]
  },
  {
   "cell_type": "markdown",
   "metadata": {},
   "source": [
    "<table style=\"display: inline-block\">\n",
    "    <tr><th>PROPERTY</th><th>CODE</th><th>VALUE</th><th>EFFECT</th></tr>\n",
    "    <tr><td>linestyle</td><td><tt>ls</tt></td><td><tt>'-'</tt></td><td>solid line (default)</td></tr>\n",
    "    <tr><td>linestyle</td><td><tt>ls</tt></td><td><tt>'--'</tt></td><td>dashed line</td></tr>\n",
    "    <tr><td>linestyle</td><td><tt>ls</tt></td><td><tt>'-.'</tt></td><td>dashed/dotted line</td></tr>\n",
    "    <tr><td>linestyle</td><td><tt>ls</tt></td><td><tt>':'</tt></td><td>dotted line</td></tr>\n",
    "    <tr><td>color</td><td><tt>c</tt></td><td>string</td><td></td></tr>\n",
    "    <tr><td>linewidth</td><td><tt>lw</tt></td><td>float</td><td></td></tr>\n",
    "</table>"
   ]
  },
  {
   "cell_type": "code",
   "execution_count": 55,
   "metadata": {},
   "outputs": [],
   "source": [
    "#set color of the plot to red, with dashed/dotted style\n"
   ]
  },
  {
   "cell_type": "code",
   "execution_count": 56,
   "metadata": {},
   "outputs": [],
   "source": [
    "#show the line plot for entitre col in df2\n"
   ]
  },
  {
   "cell_type": "code",
   "execution_count": 57,
   "metadata": {},
   "outputs": [],
   "source": [
    "#add title, x-lable, y-lable to the plot\n"
   ]
  },
  {
   "cell_type": "markdown",
   "metadata": {},
   "source": [
    "For starters we can pass a location code. <tt>.legend(loc=1)</tt> places the legend in the upper-right corner of the plot.<br>Alternatively we can pass a location string: <tt>.legend(loc='upper right')</tt> does the same thing.\n",
    "\n",
    "<table style=\"display: inline-block\">\n",
    "<tr><th>LOCATION CODE</th><th>LOCATION STRING</th></tr>\n",
    "<tr><td>0</td><td>'best'</td></tr>\n",
    "<tr><td>1</td><td>'upper right'</td></tr>\n",
    "<tr><td>2</td><td>'upper left'</td></tr>\n",
    "<tr><td>3</td><td>'lower left'</td></tr>\n",
    "<tr><td>4</td><td>'lower right'</td></tr>\n",
    "<tr><td>5</td><td>'right'</td></tr>\n",
    "<tr><td>6</td><td>'center left'</td></tr>\n",
    "<tr><td>7</td><td>'center right'</td></tr>\n",
    "<tr><td>8</td><td>'lower center'</td></tr>\n",
    "<tr><td>9</td><td>'upper center'</td></tr>\n",
    "<tr><td>10</td><td>'center'</td></tr>\n",
    "</table>"
   ]
  },
  {
   "cell_type": "code",
   "execution_count": 58,
   "metadata": {},
   "outputs": [],
   "source": [
    "#set the legend to the lower right of the plot\n"
   ]
  },
  {
   "cell_type": "code",
   "execution_count": 59,
   "metadata": {},
   "outputs": [],
   "source": [
    "#PLACE THE LEGEND IN THE LOWER-LEFT\n"
   ]
  },
  {
   "cell_type": "code",
   "execution_count": 60,
   "metadata": {},
   "outputs": [],
   "source": [
    "#MOVE THE LEGEND A LITTLE TO THE RIGHT AND UP\n"
   ]
  },
  {
   "cell_type": "code",
   "execution_count": 61,
   "metadata": {},
   "outputs": [],
   "source": [
    "#place the legend outside the plot\n"
   ]
  },
  {
   "cell_type": "markdown",
   "metadata": {},
   "source": [
    "# Pandas_Visualization_Exercises"
   ]
  },
  {
   "cell_type": "code",
   "execution_count": 62,
   "metadata": {},
   "outputs": [],
   "source": [
    "#import pandas and read df3.csv\n",
    "\n"
   ]
  },
  {
   "cell_type": "code",
   "execution_count": 63,
   "metadata": {},
   "outputs": [],
   "source": [
    "#print len and head of the csv file\n"
   ]
  },
  {
   "cell_type": "code",
   "execution_count": 64,
   "metadata": {},
   "outputs": [],
   "source": [
    "#1. creat scatter plot of 'produced' vs 'defective'\n"
   ]
  },
  {
   "cell_type": "code",
   "execution_count": 65,
   "metadata": {},
   "outputs": [],
   "source": [
    "#2. Create a histogram of the 'produced' column\n"
   ]
  },
  {
   "cell_type": "code",
   "execution_count": 66,
   "metadata": {},
   "outputs": [],
   "source": [
    "#3. tightening the x-axis and adding lines between bars\n"
   ]
  },
  {
   "cell_type": "code",
   "execution_count": 67,
   "metadata": {},
   "outputs": [],
   "source": [
    "#4. Create a boxplot that shows 'produced' for each 'weekday' (hint: this is a groupby operation)\n"
   ]
  },
  {
   "cell_type": "code",
   "execution_count": 68,
   "metadata": {},
   "outputs": [],
   "source": [
    "#5. Create a KDE plot of the 'defective' column\n"
   ]
  },
  {
   "cell_type": "code",
   "execution_count": 69,
   "metadata": {},
   "outputs": [],
   "source": [
    "#6. For the above KDE plot, figure out how to increase the linewidth and make the linestyle dashed.\n"
   ]
  },
  {
   "cell_type": "code",
   "execution_count": 70,
   "metadata": {},
   "outputs": [],
   "source": [
    "#7. Create a blended area plot of all the columns for just the rows up to 30. (hint: use .loc)\n"
   ]
  },
  {
   "cell_type": "code",
   "execution_count": 71,
   "metadata": {},
   "outputs": [],
   "source": [
    "#Notice how the legend in our previous figure overlapped some of actual diagram.\n",
    "#Can you figure out how to display the legend outside of the plot?\n"
   ]
  },
  {
   "cell_type": "code",
   "execution_count": null,
   "metadata": {},
   "outputs": [],
   "source": []
  },
  {
   "cell_type": "code",
   "execution_count": null,
   "metadata": {},
   "outputs": [],
   "source": []
  },
  {
   "cell_type": "code",
   "execution_count": null,
   "metadata": {},
   "outputs": [],
   "source": []
  }
 ],
 "metadata": {
  "kernelspec": {
   "display_name": "Python 3",
   "language": "python",
   "name": "python3"
  },
  "language_info": {
   "codemirror_mode": {
    "name": "ipython",
    "version": 3
   },
   "file_extension": ".py",
   "mimetype": "text/x-python",
   "name": "python",
   "nbconvert_exporter": "python",
   "pygments_lexer": "ipython3",
   "version": "3.7.1"
  }
 },
 "nbformat": 4,
 "nbformat_minor": 2
}
