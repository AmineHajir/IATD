{
 "cells": [
  {
   "cell_type": "markdown",
   "metadata": {},
   "source": [
    "#### Recherche Dichotomique - Binary Search - O(log(n)) "
   ]
  },
  {
   "cell_type": "code",
   "execution_count": 245,
   "metadata": {},
   "outputs": [],
   "source": [
    "def BinarySearch(nums, key):\n",
    "    if not nums: return False # if array is empty\n",
    "    else:\n",
    "        i = len(nums)//2 # middle index\n",
    "        m = nums[i] # middle value\n",
    "        if key == m: return True\n",
    "        if key > m: return BinarySearch(nums[i+1:], key)\n",
    "        if key < m: return BinarySearch(nums[:i], key) "
   ]
  },
  {
   "cell_type": "code",
   "execution_count": 331,
   "metadata": {
    "scrolled": false
   },
   "outputs": [
    {
     "data": {
      "text/plain": [
       "False"
      ]
     },
     "execution_count": 331,
     "metadata": {},
     "output_type": "execute_result"
    }
   ],
   "source": [
    "BinarySearch([1,2,4,4,5,6,7,8,9,10],3) "
   ]
  },
  {
   "cell_type": "code",
   "execution_count": 5,
   "metadata": {},
   "outputs": [],
   "source": [
    "# acc : Accumulateur de l'index de l'élément recherché\n",
    "def Search1(nums, key, acc):\n",
    "    if not nums: \n",
    "        return False # if array is empty\n",
    "    else:\n",
    "        i = len(nums)//2 # middle index\n",
    "        if key == nums[i]: return acc\n",
    "        if key > nums[i]: return Search1(nums[i+1:], key, acc + 1 + len(nums[i+1:])//2)\n",
    "        if key < nums[i]: return Search1(nums[:i], key, acc - (len(nums[:i])%2!=0) - len(nums[:i])//2)\n",
    "\n",
    "def Search2(nums, key, acc):\n",
    "    if not nums: \n",
    "        return False # if array is empty\n",
    "    else:\n",
    "        middle = len(nums)//2\n",
    "        if key == nums[middle]: return acc\n",
    "        if key > nums[middle]: return Search2(nums[middle+1:], key, acc + (len(nums)-middle+1)//2)\n",
    "        if key < nums[middle]: return Search2(nums[:middle], key, acc - (middle+1)//2)\n",
    "\n",
    "def BinarySearchIndex(nums, key):\n",
    "    return Search2(nums, key, len(nums)//2) "
   ]
  },
  {
   "cell_type": "code",
   "execution_count": 8,
   "metadata": {},
   "outputs": [
    {
     "data": {
      "text/plain": [
       "7"
      ]
     },
     "execution_count": 8,
     "metadata": {},
     "output_type": "execute_result"
    }
   ],
   "source": [
    "BinarySearchIndex([1,2,3,4,5,6,7,8,10],8) "
   ]
  },
  {
   "cell_type": "code",
   "execution_count": 9,
   "metadata": {},
   "outputs": [
    {
     "name": "stdout",
     "output_type": "stream",
     "text": [
      "[0, False, 1, False, 2, False, 3, False, 4, False, 5, False, 6, False, 7, False, 8, False, 9, False, 10, False, 11, False, 12, False, 13, False, 14, False, 15, False, 16, False, 17, False, 18, False, 19, False, 20, False, 21, False, 22, False, 23, False, 24, False]\n"
     ]
    }
   ],
   "source": [
    "l = []\n",
    "for i in range(1,51):\n",
    "    l.append(BinarySearchIndex(list(range(1,51,2)),i)) \n",
    "print(l)"
   ]
  },
  {
   "cell_type": "markdown",
   "metadata": {},
   "source": [
    "#### Tri par Insertion - Insertion Sort - O(n^2) "
   ]
  },
  {
   "cell_type": "code",
   "execution_count": 92,
   "metadata": {},
   "outputs": [],
   "source": [
    "# Complexité en temps: O(n) - Complexité en espace: O(1) \n",
    "def insert(elem, Tab):\n",
    "    i = len(Tab)-1\n",
    "    Tab.append(-1)\n",
    "    while (elem < Tab[i]) and (i >= 0):\n",
    "        Tab[i+1] = Tab[i]\n",
    "        i = i-1\n",
    "    Tab[i+1] = elem\n",
    "    return Tab\n",
    "\n",
    "# On considère que Tab ne contient que des entiers\n",
    "# Complexité en temps: O(n^2) - Complexité en espace: O(n) \n",
    "def insertionTri(Tab):\n",
    "    T = []\n",
    "    for elem in Tab:\n",
    "        insert(elem,T) # en O(n)\n",
    "        print(T)\n",
    "    return T"
   ]
  },
  {
   "cell_type": "markdown",
   "metadata": {},
   "source": [
    "#### Tri par Sélection - Selection Sort - O(n^2) "
   ]
  },
  {
   "cell_type": "code",
   "execution_count": 119,
   "metadata": {},
   "outputs": [],
   "source": [
    "def selectionTri(Tab):\n",
    "    n = len(Tab)\n",
    "    for i in range(0,n-1):\n",
    "        min = i\n",
    "        for j in range(i+1,n): # Recherche du mimimum\n",
    "            if Tab[j] < Tab[min]:\n",
    "                min = j\n",
    "        if min != i: # permutation de l'element courant avec le minimum\n",
    "            temp = Tab[min]\n",
    "            Tab[min] = Tab[i]\n",
    "            Tab[i] = temp\n",
    "    return Tab\n",
    "        "
   ]
  },
  {
   "cell_type": "markdown",
   "metadata": {},
   "source": [
    "#### Tri Bulle ou Tri par Echange - Bubble Sort - O(n^2) "
   ]
  },
  {
   "cell_type": "code",
   "execution_count": 2,
   "metadata": {},
   "outputs": [],
   "source": [
    "def bulleTri(Tab):\n",
    "    n, permut, cpt = len(Tab), True, 1\n",
    "    while permut:\n",
    "        permut = False\n",
    "        for i in range(0,n-cpt):\n",
    "            if Tab[i]>Tab[i+1]: # Permutation des deux elements\n",
    "                temp = Tab[i]\n",
    "                Tab[i] = Tab[i+1]\n",
    "                Tab[i+1] = temp\n",
    "                permut = True\n",
    "        cpt+=1\n",
    "    return Tab"
   ]
  },
  {
   "cell_type": "markdown",
   "metadata": {},
   "source": [
    "#### Tri Fusion - Merge Sort - O(n*log(n)) "
   ]
  },
  {
   "cell_type": "code",
   "execution_count": 1,
   "metadata": {},
   "outputs": [],
   "source": [
    "# compledxity in O(N1+N2) ~ O(N) \n",
    "def tri(T1,T2):\n",
    "    i,j,N1,N2 = 0,0,len(T1),len(T2)\n",
    "    T = []\n",
    "    while (i<N1) or (j<N2):\n",
    "        if i==N1:\n",
    "            T+=T2[j:]\n",
    "            break\n",
    "        elif j==N2:\n",
    "            T+=T1[i:]\n",
    "            break\n",
    "        elif T1[i]<=T2[j]:\n",
    "            T.append(T1[i])\n",
    "            i+=1\n",
    "        else:\n",
    "            T.append(T2[j])\n",
    "            j+=1\n",
    "    return T\n",
    "            \n",
    "def fusion(Tab):\n",
    "    N = len(Tab)\n",
    "    if N==1 or N==0:\n",
    "        return Tab\n",
    "    else:\n",
    "        return tri(fusion(Tab[:N//2]), fusion(Tab[N//2:]))  \n",
    "    "
   ]
  },
  {
   "cell_type": "code",
   "execution_count": 2,
   "metadata": {},
   "outputs": [
    {
     "data": {
      "text/plain": [
       "[2, 3, 3, 4, 5, 6, 8]"
      ]
     },
     "execution_count": 2,
     "metadata": {},
     "output_type": "execute_result"
    }
   ],
   "source": [
    "fusion([5,3,8,4,6,3,2])"
   ]
  },
  {
   "cell_type": "markdown",
   "metadata": {},
   "source": [
    "#### Tri Rapide - Quick Sort - O(n*log(n)) "
   ]
  },
  {
   "cell_type": "code",
   "execution_count": 72,
   "metadata": {},
   "outputs": [],
   "source": [
    "def permut(Tab, debut, fin): # En O(1)\n",
    "    temp = Tab[debut]\n",
    "    Tab[debut] = Tab[fin]\n",
    "    Tab[fin] = temp\n",
    "\n",
    "def pivot(Tab, debut, fin): # En O(n) \n",
    "    p = debut\n",
    "    while debut<fin:\n",
    "        while Tab[p]<=Tab[fin] and debut<fin:\n",
    "            fin-=1\n",
    "        if debut>=fin: break\n",
    "        permut(Tab, debut, fin) \n",
    "        p = fin\n",
    "        debut+=1\n",
    "        while Tab[p]>=Tab[debut] and debut<fin:\n",
    "            debut+=1\n",
    "        if debut>=fin: break\n",
    "        permut(Tab, debut, fin) \n",
    "        p = debut\n",
    "        fin-=1\n",
    "    return p"
   ]
  },
  {
   "cell_type": "code",
   "execution_count": 76,
   "metadata": {},
   "outputs": [],
   "source": [
    "# Complexité moyenne en O(nlog(n))\n",
    "# Le pire des cas se produit quand la liste est déja triée => O(n^2) \n",
    "def rapideTri(Tab,debut,fin):\n",
    "    print(Tab)\n",
    "    p = pivot(Tab, debut, fin)\n",
    "    if debut < p-1: rapideTri(Tab,debut,p-1)\n",
    "    if fin > p+1: rapideTri(Tab,p+1,fin) "
   ]
  },
  {
   "cell_type": "code",
   "execution_count": 79,
   "metadata": {},
   "outputs": [
    {
     "name": "stdout",
     "output_type": "stream",
     "text": [
      "[15, 20, 18, 16, 5, 6, 7, 8]\n",
      "[8, 7, 6, 5, 15, 16, 18, 20]\n",
      "[5, 7, 6, 8, 15, 16, 18, 20]\n",
      "[5, 7, 6, 8, 15, 16, 18, 20]\n",
      "[5, 6, 7, 8, 15, 16, 18, 20]\n",
      "[5, 6, 7, 8, 15, 16, 18, 20]\n",
      "[5, 6, 7, 8, 15, 16, 18, 20]\n"
     ]
    }
   ],
   "source": [
    "T = [15,20,18,16,5,6,7,8]\n",
    "R = [40,13,2,7,5,1]\n",
    "debut = 0\n",
    "fin = len(T)-1\n",
    "rapideTri(T,debut,fin) \n",
    "print(T)"
   ]
  },
  {
   "cell_type": "code",
   "execution_count": 592,
   "metadata": {},
   "outputs": [],
   "source": [
    "def search(nums,key):\n",
    "    first, last = 0, len(nums)-1\n",
    "    middle = (last+first)//2\n",
    "    \n",
    "    while first <= last:\n",
    "        if key == nums[middle]: \n",
    "            return middle\n",
    "        else:\n",
    "            if nums[middle] >= nums[first]:\n",
    "                if key < nums[first] or key > nums[middle]:\n",
    "                    first = middle+1\n",
    "                elif key >= nums[first] and key < nums[middle]:\n",
    "                    last = middle-1\n",
    "            else: #if nums[middle] < nums[first]:\n",
    "                if key >= nums[first] or key < nums[middle]:\n",
    "                    last = middle-1\n",
    "                elif key < nums[first] and key > nums[middle]:\n",
    "                    first = middle+1\n",
    "            #middle = (middle+1)*(middle<first) + ((last-first)//2)\n",
    "            middle = (last+first)//2\n",
    "        \n",
    "    return -1  \n",
    "    "
   ]
  },
  {
   "cell_type": "code",
   "execution_count": 641,
   "metadata": {},
   "outputs": [
    {
     "data": {
      "text/plain": [
       "2"
      ]
     },
     "execution_count": 641,
     "metadata": {},
     "output_type": "execute_result"
    }
   ],
   "source": [
    "search([2,2,3,4,6,6,7,7,7,7,1,1,1,],3) "
   ]
  },
  {
   "cell_type": "code",
   "execution_count": 245,
   "metadata": {},
   "outputs": [
    {
     "data": {
      "text/plain": [
       "2"
      ]
     },
     "execution_count": 245,
     "metadata": {},
     "output_type": "execute_result"
    }
   ],
   "source": [
    "2*(3<4)"
   ]
  },
  {
   "cell_type": "code",
   "execution_count": null,
   "metadata": {},
   "outputs": [],
   "source": []
  }
 ],
 "metadata": {
  "kernelspec": {
   "display_name": "Python 3",
   "language": "python",
   "name": "python3"
  },
  "language_info": {
   "codemirror_mode": {
    "name": "ipython",
    "version": 3
   },
   "file_extension": ".py",
   "mimetype": "text/x-python",
   "name": "python",
   "nbconvert_exporter": "python",
   "pygments_lexer": "ipython3",
   "version": "3.8.3"
  }
 },
 "nbformat": 4,
 "nbformat_minor": 4
}
