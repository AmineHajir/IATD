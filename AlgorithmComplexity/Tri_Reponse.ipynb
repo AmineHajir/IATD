{
  "nbformat": 4,
  "nbformat_minor": 0,
  "metadata": {
    "accelerator": "GPU",
    "colab": {
      "name": "SortAlgorithms.ipynb",
      "provenance": [],
      "collapsed_sections": []
    },
    "kernelspec": {
      "display_name": "Python 3",
      "language": "python",
      "name": "python3"
    },
    "language_info": {
      "codemirror_mode": {
        "name": "ipython",
        "version": 3
      },
      "file_extension": ".py",
      "mimetype": "text/x-python",
      "name": "python",
      "nbconvert_exporter": "python",
      "pygments_lexer": "ipython3",
      "version": "3.7.3"
    }
  },
  "cells": [
    {
      "cell_type": "markdown",
      "metadata": {
        "id": "0EANOX5KOqez"
      },
      "source": [
        "## Activity session, part 1\n",
        "\n",
        "In this part we will not use any data structures yet, only usual arrays.\n",
        "Please solve problems one after another. For all of the problems you need to write the code, say what is complexity and do tests to make sure you code is working as it should.\n",
        "\n",
        "$\\textbf{Problem 1.}$ Implement binary search: you have sorted array of numbers: $a_1, \\dots, a_n$ and your goal is to find the number $key$ in this array.\n",
        "**Example:** you have array $1,2,7,18,35,78$ and the goal is to find number $key = 7$. \n",
        "\n",
        "$\\textbf{Problem 2.}$ Implement bubble sort, generate different data, using random numbers generation (fix seed for reproducible results!) and make sure, that the average working time is $O(n^2)$. Make plot with dependece of complexity versus time, use regression to show the desired behaviour.\n",
        "\n",
        "$\\textbf{Problem 3.}$ Implement merge sort, get the same type of plot as in previous problem and make sure that working time is proportional to $O(n\\log n)$, use regression to show the complexity.\n",
        "\n",
        "$\\textbf{Problem 4.}$ Implement quick sort, not using the additional memory, you can see the example below for better understanding. Do the same procedure as for prevuios problem and compare it with merge sort. Which one is better?\n",
        "\n",
        "$\\ \\ \\ \\ \\ \\ \\ \\ \\ \\ \\ \\ \\ \\ \\ \\ \\ \\ \\ \\ \\ \\ \\ \\ \\ \\ \\ \\ \\ \\ \\ \\ \\ \\ \\ \\ \\ \\ \\ \\ \\ \\ \\ \\ \\ \\ \\ \\ \\ \\ \\ \\ \\ \\ \\ \\ \\ \\ \\ \\ \\ \\ \\ \\ \\ \\ \\$\n",
        "![picture](https://sites.google.com/site/listasenlazadas/_/rsrc/1403593304712/anexos/150px-Partition_example.svg.png?height=400&width=327)\n",
        "\n",
        "\n",
        "$\\textbf{Problem 5.}$ Suppose, that you have a sorted array $a_1, \\dots, a_n$ and then for some **unknown** $k$ we put the first $k$ elements to the end. Find the given element $key$ in this new array. \n",
        "\n",
        "**Example:** you original sorted array is $1,2,5,8,13,28,42$, number $k=3$ and new array is $8,13,28,42,1,2,5$. Note, that it is not sorted anymore, but still it is almost sorted. Let $key = 42$, then you answer should be 3, because it is the number of element with this key.\n"
      ]
    },
    {
      "cell_type": "markdown",
      "metadata": {
        "id": "x4a0gCWCZb2K"
      },
      "source": [
        "## Problem 1"
      ]
    },
    {
      "cell_type": "code",
      "metadata": {
        "id": "sxH0Co9ZZd7A"
      },
      "source": [
        "# @nums: given array\n",
        "# @key: element looking for\n",
        "# @return : True if element in list, False is not\n",
        "# @Complexity : O(log(n))\n",
        "def BinarySearch(nums, key):\n",
        "    #print('Doing binary search on', nums)\n",
        "    if not nums: return False # if array is empty\n",
        "    else:\n",
        "        i = len(nums)//2 # middle index\n",
        "        m = nums[i] # middle value\n",
        "        if key == m: return True\n",
        "        if key > m: return BinarySearch(nums[i+1:], key)\n",
        "        if key < m: return BinarySearch(nums[:i], key)"
      ],
      "execution_count": null,
      "outputs": []
    },
    {
      "cell_type": "code",
      "metadata": {
        "colab": {
          "base_uri": "https://localhost:8080/"
        },
        "id": "fAMNE52YiToz",
        "outputId": "532b54ea-f507-4547-c829-b29d4d0746b8"
      },
      "source": [
        "# Test\n",
        "print(BinarySearch([1],1), BinarySearch([1],0), BinarySearch([1],2), BinarySearch([2],-1), BinarySearch([],1))\n",
        "print(BinarySearch([-4,5],1), BinarySearch([2,4],1), BinarySearch([2,5],2), BinarySearch([2,5],5), BinarySearch([3,7],10))\n",
        "print(BinarySearch([2,4,8],-11), BinarySearch([2,4,8],3), BinarySearch([2,4,8],2), BinarySearch([2,4,8],8), BinarySearch([2,4,8],11))\n",
        "print(BinarySearch([1,2,4,4,5,6,7,8,9,10],3), BinarySearch([1,2,4,4,5,6,7,8,9,10],4), BinarySearch([1,2,4,4,5,6,7,8,9,10],10), BinarySearch([1,2,4,6,7,9,10],1))\n",
        "BinarySearch(list(range(1,10**3)),724)"
      ],
      "execution_count": null,
      "outputs": [
        {
          "output_type": "stream",
          "text": [
            "True False False False False\n",
            "False False True True False\n",
            "False False True True False\n",
            "False True True True\n"
          ],
          "name": "stdout"
        },
        {
          "output_type": "execute_result",
          "data": {
            "text/plain": [
              "True"
            ]
          },
          "metadata": {
            "tags": []
          },
          "execution_count": 63
        }
      ]
    },
    {
      "cell_type": "code",
      "metadata": {
        "id": "UmI9-6o5kozr"
      },
      "source": [
        "# @acc : Accumulator of the index of the searched element\n",
        "# @return : index of searched element\n",
        "# @Complexity : O(log(n))\n",
        "def Search1(nums, key, acc): # Version1\n",
        "    if not nums: \n",
        "        return False # if array is empty\n",
        "    else:\n",
        "        i = len(nums)//2 # middle index\n",
        "        if key == nums[i]: return acc\n",
        "        if key > nums[i]: return Search1(nums[i+1:], key, acc + 1 + len(nums[i+1:])//2)\n",
        "        if key < nums[i]: return Search1(nums[:i], key, acc - (len(nums[:i])%2!=0) - len(nums[:i])//2)\n",
        "\n",
        "def Search2(nums, key, acc): #Version2\n",
        "    if not nums: \n",
        "        return False # if array is empty\n",
        "    else:\n",
        "        middle = len(nums)//2\n",
        "        if key == nums[middle]: return acc\n",
        "        if key > nums[middle]: return Search2(nums[middle+1:], key, acc + (len(nums)-middle+1)//2)\n",
        "        if key < nums[middle]: return Search2(nums[:middle], key, acc - (middle+1)//2)\n",
        "\n",
        "def BinarySearchIndex(nums, key): \n",
        "    return Search2(nums, key, len(nums)//2) # initialization of the accumulator"
      ],
      "execution_count": null,
      "outputs": []
    },
    {
      "cell_type": "code",
      "metadata": {
        "colab": {
          "base_uri": "https://localhost:8080/"
        },
        "id": "cQ_rXODrl05p",
        "outputId": "0794d8eb-190f-4262-e46e-6f61abb26e44"
      },
      "source": [
        "# Test\n",
        "print(BinarySearchIndex([],34), BinarySearchIndex([1],34), BinarySearchIndex([1],0), BinarySearchIndex([1],1))\n",
        "print(BinarySearchIndex([1,3],0), BinarySearchIndex([1,3],1), BinarySearchIndex([1,3],3), BinarySearchIndex([1,3],2))\n",
        "print(BinarySearchIndex([1,3,7],-3), BinarySearchIndex([1,3,7],2), BinarySearchIndex([1,3,7],7), BinarySearchIndex([1,3,7],3), BinarySearchIndex([1,3,7],1))\n",
        "print(BinarySearchIndex([1,3,8,10,13,16,20,31],31), BinarySearchIndex([1,3,8,10,13,16,20,31],10), BinarySearchIndex([1,3,8,10,13,16,20,31],16))\n",
        "l = []\n",
        "for i in range(1,20):\n",
        "    l.append(BinarySearchIndex(list(range(2,19)),i)) \n",
        "print(l)"
      ],
      "execution_count": null,
      "outputs": [
        {
          "output_type": "stream",
          "text": [
            "False False False 0\n",
            "False 0 1 False\n",
            "False False 2 1 0\n",
            "7 3 5\n",
            "[False, 0, 1, 2, 3, 4, 5, 6, 7, 8, 9, 10, 11, 12, 13, 14, 15, 16, False]\n"
          ],
          "name": "stdout"
        }
      ]
    },
    {
      "cell_type": "markdown",
      "metadata": {
        "id": "u6OcJ4h8Oqe6"
      },
      "source": [
        "## Problem 2"
      ]
    },
    {
      "cell_type": "code",
      "metadata": {
        "id": "lCnm5S6rOqe7"
      },
      "source": [
        "# Complexity : O(n^2)\n",
        "def BubbleSort(nums):\n",
        "    n, permut, cpt = len(nums), True, 1 # Initialization\n",
        "    while permut: # array is sorted if there is no more permutation => we then go out of the loop\n",
        "        permut = False\n",
        "        for i in range(0,n-cpt):\n",
        "            if nums[i] > nums[i+1]:\n",
        "                temp = nums[i]\n",
        "                nums[i] = nums[i+1]\n",
        "                nums[i+1] = temp\n",
        "                permut = True\n",
        "        cpt+=1 # With each loop the largest element is in its place. No need to compare it in the next iteration.\n",
        "    return nums"
      ],
      "execution_count": null,
      "outputs": []
    },
    {
      "cell_type": "code",
      "metadata": {
        "colab": {
          "base_uri": "https://localhost:8080/"
        },
        "id": "TmBLeoN3w4hE",
        "outputId": "84966ac3-370e-45bf-cc18-82f42c488e1b"
      },
      "source": [
        "# Tests\n",
        "print(BubbleSort([]), BubbleSort([1]), BubbleSort([2,1]), BubbleSort([3,5,1,32,4,67,21,34,0,32,21,-3.4,3.2,4]))\n",
        "print(BubbleSort(list(range(12,-5,-1))), BubbleSort([45,21,12,3,3,2,2,2,-5,-5,2,3,21,12,34,54,32]))"
      ],
      "execution_count": null,
      "outputs": [
        {
          "output_type": "stream",
          "text": [
            "[] [1] [1, 2] [-3.4, 0, 1, 3, 3.2, 4, 4, 5, 21, 21, 32, 32, 34, 67]\n",
            "[-4, -3, -2, -1, 0, 1, 2, 3, 4, 5, 6, 7, 8, 9, 10, 11, 12] [-5, -5, 2, 2, 2, 2, 3, 3, 3, 12, 12, 21, 21, 32, 34, 45, 54]\n"
          ],
          "name": "stdout"
        }
      ]
    },
    {
      "cell_type": "code",
      "metadata": {
        "id": "gTAUOD5fOqe_"
      },
      "source": [
        "# @func : sorting algorighm\n",
        "# @num_it : number of iterations to average over - how many time we do our experiment - Nombre de fois qu'on va trier les tableaux \n",
        "# @N_big : upper limit of computations - limite supérieure des calculs - how many points we want <=> taille limite des tableaux à trier\n",
        "# @step : step-size to plot\n",
        "def Generate_Data(num_it, N_big, step, func):\n",
        "    points_to_plot = np.arange(step, N_big+1, step) # creating array points_to_plot of points to plot the graph\n",
        "    el_time = np.zeros(len(points_to_plot))\n",
        "    for i in range(len(points_to_plot)): # We go through the dimensions of arrays\n",
        "        for j in range(num_it):\n",
        "            temp = Data[j,:points_to_plot[i]]   # do this, because sort is working locally and change our Data\n",
        "            t0 = time.time()\n",
        "            func(temp) # We sort the j-th array with dimension points_to_plot[i].\n",
        "            t1 = time.time()\n",
        "            el_time[i] += (t1 - t0)\n",
        "        el_time[i]/= num_it\n",
        "    return(points_to_plot, el_time)"
      ],
      "execution_count": null,
      "outputs": []
    },
    {
      "cell_type": "markdown",
      "metadata": {
        "id": "pyJmrkncMWsq"
      },
      "source": [
        "## Problem 2 - complexity of algorithm\n",
        "apply funtion `Generate_Data` here and showt that complexity of bubble sort is indeed $O(n^2)$."
      ]
    },
    {
      "cell_type": "code",
      "metadata": {
        "colab": {
          "base_uri": "https://localhost:8080/",
          "height": 546
        },
        "id": "jVVLuoEcPghK",
        "outputId": "6eaf956c-da79-4717-a9f4-51c00b7692c8"
      },
      "source": [
        "from sklearn.linear_model import LinearRegression\n",
        "import matplotlib.pyplot as plt\n",
        "import numpy as np\n",
        "import time\n",
        "\n",
        "np.random.seed(1)\n",
        "N_big = 1000\n",
        "num_it = 10\n",
        "step = 50\n",
        "Data = np.random.rand(num_it, N_big)\n",
        "\n",
        "dataSize, execTime = Generate_Data(num_it, N_big, step, BubbleSort)\n",
        "\n",
        "plt.plot(dataSize**2, execTime)\n",
        "plt.ylabel(\"Time\")\n",
        "plt.xlabel(\"Data Size\")\n",
        "#plt.axis([-10, 120, 0, 0.0012])\n",
        "plt.show()\n",
        "\n",
        "\n",
        "regressor = LinearRegression()\n",
        "result = regressor.fit((dataSize**2).reshape(-1,1), execTime)\n",
        "print(result.intercept_, result.coef_)\n",
        "plt.plot(dataSize, dataSize**2 * result.coef_, '-b')\n",
        "plt.plot(dataSize, execTime, '-r', marker = 'o')\n",
        "plt.show()\n",
        "\n"
      ],
      "execution_count": null,
      "outputs": [
        {
          "output_type": "display_data",
          "data": {
            "image/png": "[encoded data removed]",
            "text/plain": [
              "<Figure size 432x288 with 1 Axes>"
            ]
          },
          "metadata": {
            "tags": []
          }
        },
        {
          "output_type": "stream",
          "text": [
            "0.001714889527688064 [1.53866184e-07]\n"
          ],
          "name": "stdout"
        },
        {
          "output_type": "display_data",
          "data": {
            "image/png": "[encoded data removed]",
            "text/plain": [
              "<Figure size 432x288 with 1 Axes>"
            ]
          },
          "metadata": {
            "tags": []
          }
        }
      ]
    },
    {
      "cell_type": "markdown",
      "metadata": {
        "id": "k7Lgl3pHOqfC"
      },
      "source": [
        "## Problem 3"
      ]
    },
    {
      "cell_type": "code",
      "metadata": {
        "id": "ajYtQh9fOqfD"
      },
      "source": [
        "# compledxity in O(N1+N2) ~ O(N) \n",
        "def merge(T1,T2):\n",
        "    i,j,N1,N2 = 0,0,len(T1),len(T2)\n",
        "    T = []\n",
        "    while (i<N1) or (j<N2):\n",
        "        if i==N1:\n",
        "            T+=T2[j:]\n",
        "            break\n",
        "        elif j==N2:\n",
        "            T+=T1[i:]\n",
        "            break\n",
        "        elif T1[i]<=T2[j]:\n",
        "            T.append(T1[i])\n",
        "            i+=1\n",
        "        else:\n",
        "            T.append(T2[j])\n",
        "            j+=1\n",
        "    return T\n",
        "            \n",
        "def MergeSort(nums):\n",
        "    N = len(nums)\n",
        "    if N==1 or N==0:\n",
        "        return nums\n",
        "    else:\n",
        "        return merge(MergeSort(nums[:N//2]), MergeSort(nums[N//2:])) "
      ],
      "execution_count": null,
      "outputs": []
    },
    {
      "cell_type": "code",
      "metadata": {
        "colab": {
          "base_uri": "https://localhost:8080/"
        },
        "id": "Xu7XKoVeEH5C",
        "outputId": "40e76446-5962-4d62-ff64-a9ce70de7728"
      },
      "source": [
        "print(MergeSort([]), MergeSort([23]), MergeSort([-34]), MergeSort([21,13]), MergeSort([23,12,4,2,-10]))\n",
        "print(MergeSort([-1,2,45,-1,12]), MergeSort([23]), MergeSort([-34]), MergeSort([21,13]), MergeSort([23,12,4,2,-10]))\n",
        "MergeSort(list(np.arange(31,4,-2)))"
      ],
      "execution_count": null,
      "outputs": [
        {
          "output_type": "stream",
          "text": [
            "[] [23] [-34] [13, 21] [-10, 2, 4, 12, 23]\n",
            "[-1, -1, 2, 12, 45] [23] [-34] [13, 21] [-10, 2, 4, 12, 23]\n"
          ],
          "name": "stdout"
        },
        {
          "output_type": "execute_result",
          "data": {
            "text/plain": [
              "[5, 7, 9, 11, 13, 15, 17, 19, 21, 23, 25, 27, 29, 31]"
            ]
          },
          "metadata": {
            "tags": []
          },
          "execution_count": 16
        }
      ]
    },
    {
      "cell_type": "markdown",
      "metadata": {
        "id": "9uBOaGw1PaJi"
      },
      "source": [
        "## Problem 3 - complexity of algorithm\n",
        "apply funtion `Generate_Data` here and showt that complexity of merge sort is indeed $O(n\\log n)$."
      ]
    },
    {
      "cell_type": "code",
      "metadata": {
        "colab": {
          "base_uri": "https://localhost:8080/",
          "height": 545
        },
        "id": "BWZl32F7PfpN",
        "outputId": "e7533a2f-1228-444c-a162-254b9f5b6cd5"
      },
      "source": [
        "\n",
        "N_big2 = 10000\n",
        "num_it2 = 20\n",
        "step2 = 1000\n",
        "Data = np.random.rand(num_it2, N_big2)\n",
        "\n",
        "dataSize2, execTime2 = Generate_Data(num_it2, N_big2, step2, MergeSort)\n",
        "\n",
        "plt.plot(np.log2(dataSize2)*dataSize2, execTime2)\n",
        "plt.ylabel(\"Time\")\n",
        "plt.xlabel(\"Data Size\")\n",
        "plt.show()\n",
        "\n",
        "regressor2 = LinearRegression()\n",
        "result2 = regressor2.fit((np.log2(dataSize2)*dataSize2).reshape(-1,1), execTime2)\n",
        "print(result2.intercept_, result2.coef_)\n",
        "plt.plot(dataSize2, np.log2(dataSize2)*dataSize2*result2.coef_, '-r')\n",
        "plt.plot(dataSize2, execTime2, '-b')\n",
        "plt.show()"
      ],
      "execution_count": null,
      "outputs": [
        {
          "output_type": "display_data",
          "data": {
            "image/png": "[encoded data removed]",
            "text/plain": [
              "<Figure size 432x288 with 1 Axes>"
            ]
          },
          "metadata": {
            "tags": []
          }
        },
        {
          "output_type": "stream",
          "text": [
            "0.0022860360515451345 [2.92192479e-07]\n"
          ],
          "name": "stdout"
        },
        {
          "output_type": "display_data",
          "data": {
            "image/png": "[encoded data removed]",
            "text/plain": [
              "<Figure size 432x288 with 1 Axes>"
            ]
          },
          "metadata": {
            "tags": []
          }
        }
      ]
    },
    {
      "cell_type": "markdown",
      "metadata": {
        "id": "1sKtFQ5jOqfG"
      },
      "source": [
        "## Problem 4"
      ]
    },
    {
      "cell_type": "code",
      "metadata": {
        "id": "aXf1zxIMOqfH"
      },
      "source": [
        "def permut(Tab, debut, fin): # En O(1)\n",
        "    temp = Tab[debut]\n",
        "    Tab[debut] = Tab[fin]\n",
        "    Tab[fin] = temp\n",
        "\n",
        "def pivot(Tab, debut, fin): # En O(n) \n",
        "    p = debut\n",
        "    while debut<fin:\n",
        "        while Tab[p]<=Tab[fin] and debut<fin:\n",
        "            fin-=1\n",
        "        if debut>=fin: break\n",
        "        permut(Tab, debut, fin) \n",
        "        p = fin\n",
        "        debut+=1\n",
        "        while Tab[p]>=Tab[debut] and debut<fin:\n",
        "            debut+=1\n",
        "        if debut>=fin: break\n",
        "        permut(Tab, debut, fin) \n",
        "        p = debut\n",
        "        fin-=1\n",
        "    return p\n",
        "\n",
        "def QuickSort(nums,debut,fin):\n",
        "    #print(nums)\n",
        "    p = pivot(nums, debut, fin)\n",
        "    if debut < p-1: QuickSort(nums,debut,p-1)\n",
        "    if fin > p+1: QuickSort(nums,p+1,fin)     \n",
        "    \n"
      ],
      "execution_count": null,
      "outputs": []
    },
    {
      "cell_type": "code",
      "metadata": {
        "id": "hDWDQka5iWgl"
      },
      "source": [
        "T = [15,20,18,16,5,6,7,8]\n",
        "R = [40,13,2,7,5,1]\n",
        "debut = 0\n",
        "fin = len(R)-1\n",
        "QuickSort(R,debut,fin) \n"
      ],
      "execution_count": null,
      "outputs": []
    },
    {
      "cell_type": "code",
      "metadata": {
        "id": "MHBhtAEio_65"
      },
      "source": [
        "import random\n",
        "\n",
        "def QuickSort2(nums):\n",
        "    if len(nums) <= 1: return nums\n",
        "\n",
        "    pivot = random.choice(nums)\n",
        "    left = [v for v in nums if v < pivot]\n",
        "    equal = [v for v in nums if v == pivot]\n",
        "    right = [v for v in nums if v > pivot]\n",
        "\n",
        "    return QuickSort2(left) + equal + QuickSort2(right)"
      ],
      "execution_count": null,
      "outputs": []
    },
    {
      "cell_type": "markdown",
      "metadata": {
        "id": "BpK-I3WsPhmb"
      },
      "source": [
        "## Problem 4 - complexity of algorithm\n",
        "apply funtion `Generate_Data` here and showt that complexity of quick sort is indeed $O(n\\log n)$."
      ]
    },
    {
      "cell_type": "code",
      "metadata": {
        "id": "Jas2t1hqmcIT"
      },
      "source": [
        "def Generate_Data3(num_it, N_big, step, func):\n",
        "    points_to_plot = np.arange(step, N_big+1, step) # creating array points_to_plot of points to plot the graph\n",
        "    el_time = np.zeros(len(points_to_plot))\n",
        "    for i in range(len(points_to_plot)): # We go through the dimensions of arrays\n",
        "        for j in range(num_it):\n",
        "            temp = Data3[j,:points_to_plot[i]]   # do this, because sort is working locally and change our Data\n",
        "            t0 = time.time()\n",
        "            func(temp,0,len(temp)-1) # We sort the j-th array with dimension points_to_plot[i].\n",
        "            t1 = time.time()\n",
        "            el_time[i] += (t1 - t0)\n",
        "        el_time[i]/= num_it\n",
        "    return(points_to_plot, el_time)"
      ],
      "execution_count": null,
      "outputs": []
    },
    {
      "cell_type": "code",
      "metadata": {
        "id": "Bvd-KNj3Pkx-",
        "colab": {
          "base_uri": "https://localhost:8080/",
          "height": 562
        },
        "outputId": "04a9c0e1-5cc2-4805-a354-bb0f706595ab"
      },
      "source": [
        "from sklearn.linear_model import LinearRegression\n",
        "import matplotlib.pyplot as plt\n",
        "import numpy as np\n",
        "import time\n",
        "\n",
        "N_big3 = 10000\n",
        "num_it3 = 50\n",
        "step3 = 500\n",
        "Data3 = np.random.rand(num_it3, N_big3)\n",
        "\n",
        "dataSize3, execTime3 = Generate_Data3(num_it3, N_big3, step3, QuickSort)\n",
        "\n",
        "plt.plot(np.log2(dataSize3)*dataSize3, execTime3)\n",
        "plt.ylabel(\"Time\")\n",
        "plt.xlabel(\"Data Size\")\n",
        "plt.show()\n",
        "\n",
        "regressor3 = LinearRegression()\n",
        "result3 = regressor3.fit((np.log2(dataSize3)*dataSize3).reshape(-1,1), execTime3)\n",
        "print(result3.intercept_, result3.coef_)\n",
        "sc = result3.score((np.log2(dataSize3)*dataSize3).reshape((-1, 1)), execTime3)\n",
        "print(\"score = \", sc)\n",
        "plt.plot(dataSize3, np.log2(dataSize3)*dataSize3*result3.coef_, '-r')\n",
        "plt.plot(dataSize3, execTime3, '-b')\n",
        "plt.show()"
      ],
      "execution_count": null,
      "outputs": [
        {
          "output_type": "display_data",
          "data": {
            "image/png": "[encoded data removed]",
            "text/plain": [
              "<Figure size 432x288 with 1 Axes>"
            ]
          },
          "metadata": {
            "tags": [],
            "needs_background": "light"
          }
        },
        {
          "output_type": "stream",
          "text": [
            "-0.06220217121148902 [3.47484172e-06]\n",
            "score =  0.9639175704616877\n"
          ],
          "name": "stdout"
        },
        {
          "output_type": "display_data",
          "data": {
            "image/png": "[encoded data removed]",
            "text/plain": [
              "<Figure size 432x288 with 1 Axes>"
            ]
          },
          "metadata": {
            "tags": [],
            "needs_background": "light"
          }
        }
      ]
    },
    {
      "cell_type": "markdown",
      "metadata": {
        "id": "ZjukkyiLOqe1"
      },
      "source": [
        "## Problem 5"
      ]
    },
    {
      "cell_type": "code",
      "metadata": {
        "id": "w7EwlOkeOqe2"
      },
      "source": [
        "def SearchInArray(nums,key):\n",
        "    first, last = 0, len(nums)-1\n",
        "    middle = (last+first)//2\n",
        "    \n",
        "    while first <= last:\n",
        "        if key == nums[middle]: \n",
        "            return middle\n",
        "        else:\n",
        "            if nums[middle] >= nums[first]:\n",
        "                if key < nums[first] or key > nums[middle]:\n",
        "                    first = middle+1\n",
        "                elif key >= nums[first] and key < nums[middle]:\n",
        "                    last = middle-1\n",
        "            else: #if nums[middle] < nums[first]:\n",
        "                if key >= nums[first] or key < nums[middle]:\n",
        "                    last = middle-1\n",
        "                elif key < nums[first] and key > nums[middle]:\n",
        "                    first = middle+1\n",
        "            middle = (last+first)//2\n",
        "        \n",
        "    return -1  \n"
      ],
      "execution_count": null,
      "outputs": []
    }
  ]
}