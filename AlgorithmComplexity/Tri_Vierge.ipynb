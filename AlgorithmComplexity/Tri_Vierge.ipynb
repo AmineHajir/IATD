{
 "cells": [
  {
   "cell_type": "markdown",
   "metadata": {},
   "source": [
    "## Link Google Colaboratory\n",
    "https://colab.research.google.com/drive/1j81BAcrm12QkFW385LHh52UaEnBCAtjj#scrollTo=ZjukkyiLOqe1"
   ]
  },
  {
   "cell_type": "markdown",
   "metadata": {
    "id": "0EANOX5KOqez"
   },
   "source": [
    "## Activity session, part 1\n",
    "\n",
    "In this part we will not use any data structures yet, only usual arrays.\n",
    "Please solve problems one after another. For all of the problems you need to write the code, say what is complexity and do tests to make sure you code is working as it should.\n",
    "\n",
    "$\\textbf{Problem 1.}$ Implement binary search: you have sorted array of numbers: $a_1, \\dots, a_n$ and your goal is to find the number $key$ in this array.\n",
    "**Example:** you have array $1,2,7,18,35,78$ and the goal is to find number $key = 7$. \n",
    "\n",
    "$\\textbf{Problem 2.}$ Implement bubble sort, generate different data, using random numbers generation (fix seed for reproducible results!) and make sure, that the average working time is $O(n^2)$. Make plot with dependece of complexity versus time, use regression to show the desired behaviour.\n",
    "\n",
    "$\\textbf{Problem 3.}$ Implement merge sort, get the same type of plot as in previous problem and make sure that working time is proportional to $O(n\\log n)$, use regression to show the complexity.\n",
    "\n",
    "$\\textbf{Problem 4.}$ Implement quick sort, not using the additional memory, you can see the example below for better understanding. Do the same procedure as for prevuios problem and compare it with merge sort. Which one is better?\n",
    "\n",
    "$\\ \\ \\ \\ \\ \\ \\ \\ \\ \\ \\ \\ \\ \\ \\ \\ \\ \\ \\ \\ \\ \\ \\ \\ \\ \\ \\ \\ \\ \\ \\ \\ \\ \\ \\ \\ \\ \\ \\ \\ \\ \\ \\ \\ \\ \\ \\ \\ \\ \\ \\ \\ \\ \\ \\ \\ \\ \\ \\ \\ \\ \\ \\ \\ \\ \\ \\$\n",
    "![picture](https://sites.google.com/site/listasenlazadas/_/rsrc/1403593304712/anexos/150px-Partition_example.svg.png?height=400&width=327)\n",
    "\n",
    "\n",
    "$\\textbf{Problem 5.}$ Suppose, that you have a sorted array $a_1, \\dots, a_n$ and then for some **unknown** $k$ we put the first $k$ elements to the end. Find the given element $key$ in this new array. \n",
    "\n",
    "**Example:** you original sorted array is $1,2,5,8,13,28,42$, number $k=3$ and new array is $8,13,28,42,1,2,5$. Note, that it is not sorted anymore, but still it is almost sorted. Let $key = 42$, then you answer should be 3, because it is the number of element with this key.\n"
   ]
  },
  {
   "cell_type": "markdown",
   "metadata": {
    "id": "x4a0gCWCZb2K"
   },
   "source": [
    "## Problem 1"
   ]
  },
  {
   "cell_type": "code",
   "execution_count": null,
   "metadata": {
    "id": "sxH0Co9ZZd7A"
   },
   "outputs": [],
   "source": [
    "def BinarySearch(nums, key):\n",
    "    #nums is given array\n",
    "    #key is given number\n",
    "    print('Doing binary search on', nums)\n",
    "    "
   ]
  },
  {
   "cell_type": "code",
   "execution_count": null,
   "metadata": {
    "id": "BbF7VVs0NF9g"
   },
   "outputs": [],
   "source": [
    "print(BinarySearch([11], 11))"
   ]
  },
  {
   "cell_type": "markdown",
   "metadata": {
    "id": "u6OcJ4h8Oqe6"
   },
   "source": [
    "## Problem 2"
   ]
  },
  {
   "cell_type": "code",
   "execution_count": null,
   "metadata": {
    "id": "lCnm5S6rOqe7"
   },
   "outputs": [],
   "source": [
    "# Problem 2\n",
    "def BubbleSort(nums):\n",
    "    #should return sorted array\n",
    "\n"
   ]
  },
  {
   "cell_type": "code",
   "execution_count": null,
   "metadata": {
    "id": "gTAUOD5fOqe_"
   },
   "outputs": [],
   "source": [
    "import numpy as np\n",
    "# play with these paremeter, and make sure you understand the code.\n",
    "N_big = 10000  \n",
    "num_it = 10\n",
    "Data = np.random.rand(num_it, N_big)\n",
    "\n",
    "def Generate_Data(num_it, N_big, step, func):\n",
    "    # func - sorting algorighm\n",
    "    # num_it  - number of iterations to average over \n",
    "    # N_big   - upper limit of computations\n",
    "    # step    - step-size to plot\n",
    "\n",
    "    #creating array points_to_plot of points to plot the graph\n",
    "    points_to_plot = np.arange(step, N_big+1, step)\n",
    "    \n",
    "    el_time = np.zeros(len(points_to_plot))\n",
    "    for i in range(len(points_to_plot)):\n",
    "        for j in range(num_it):\n",
    "            temp = Data[j,:points_to_plot[i]]   #do this, because sort is working locally and change our Data\n",
    "            t0 = time.time()\n",
    "            func(temp)\n",
    "            t1 = time.time()\n",
    "            el_time[i] += (t1 - t0)\n",
    "        el_time[i]/= num_it\n",
    "    return(points_to_plot, el_time)"
   ]
  },
  {
   "cell_type": "markdown",
   "metadata": {
    "id": "pyJmrkncMWsq"
   },
   "source": [
    "## Problem 2 - complexity of algorithm\n",
    "apply funtion `Generate_Data` here and showt that complexity of bubble sort is indeed $O(n^2)$."
   ]
  },
  {
   "cell_type": "code",
   "execution_count": null,
   "metadata": {
    "id": "jVVLuoEcPghK"
   },
   "outputs": [],
   "source": []
  },
  {
   "cell_type": "markdown",
   "metadata": {
    "id": "k7Lgl3pHOqfC"
   },
   "source": [
    "## Problem 3"
   ]
  },
  {
   "cell_type": "code",
   "execution_count": null,
   "metadata": {
    "id": "ajYtQh9fOqfD"
   },
   "outputs": [],
   "source": [
    "#Problem 3\n",
    "def MergeSort(nums):\n",
    "    "
   ]
  },
  {
   "cell_type": "markdown",
   "metadata": {
    "id": "9uBOaGw1PaJi"
   },
   "source": [
    "## Problem 3 - complexity of algorithm\n",
    "apply funtion `Generate_Data` here and showt that complexity of merge sort is indeed $O(n\\log n)$."
   ]
  },
  {
   "cell_type": "code",
   "execution_count": null,
   "metadata": {
    "id": "BWZl32F7PfpN"
   },
   "outputs": [],
   "source": []
  },
  {
   "cell_type": "markdown",
   "metadata": {
    "id": "1sKtFQ5jOqfG"
   },
   "source": [
    "## Problem 4"
   ]
  },
  {
   "cell_type": "code",
   "execution_count": null,
   "metadata": {
    "id": "aXf1zxIMOqfH"
   },
   "outputs": [],
   "source": [
    "def QuickSort(nums):\n",
    "    return 0    #should return sorted array\n"
   ]
  },
  {
   "cell_type": "markdown",
   "metadata": {
    "id": "BpK-I3WsPhmb"
   },
   "source": [
    "## Problem 4 - complexity of algorithm\n",
    "apply funtion `Generate_Data` here and showt that complexity of quick sort is indeed $O(n\\log n)$."
   ]
  },
  {
   "cell_type": "code",
   "execution_count": null,
   "metadata": {
    "id": "Bvd-KNj3Pkx-"
   },
   "outputs": [],
   "source": []
  },
  {
   "cell_type": "markdown",
   "metadata": {
    "id": "ZjukkyiLOqe1"
   },
   "source": [
    "## Problem 5"
   ]
  },
  {
   "cell_type": "code",
   "execution_count": null,
   "metadata": {
    "id": "w7EwlOkeOqe2"
   },
   "outputs": [],
   "source": [
    "def SearchInArray(nums, key):\n",
    "    #arr is given array\n",
    "    #key is given number\n",
    "\n",
    "    return 0\n"
   ]
  }
 ],
 "metadata": {
  "colab": {
   "collapsed_sections": [],
   "name": "A1.7.2 - Sorting algorithms, student's sheet.ipynb",
   "provenance": []
  },
  "kernelspec": {
   "display_name": "Python 3",
   "language": "python",
   "name": "python3"
  },
  "language_info": {
   "codemirror_mode": {
    "name": "ipython",
    "version": 3
   },
   "file_extension": ".py",
   "mimetype": "text/x-python",
   "name": "python",
   "nbconvert_exporter": "python",
   "pygments_lexer": "ipython3",
   "version": "3.8.3"
  }
 },
 "nbformat": 4,
 "nbformat_minor": 1
}
