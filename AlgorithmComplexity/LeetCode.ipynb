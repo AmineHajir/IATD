{
 "cells": [
  {
   "cell_type": "markdown",
   "metadata": {},
   "source": [
    "Leet Code : 198 - Solution 1 -the most complicated"
   ]
  },
  {
   "cell_type": "code",
   "execution_count": 43,
   "metadata": {},
   "outputs": [],
   "source": [
    "import itertools as it\n",
    "import numpy as np\n",
    "\n",
    "def compute_steps(n):\n",
    "    L = []\n",
    "    for x in range(0,(n//2)+1):\n",
    "        y = n-(2*x)\n",
    "        if( y%3 == 0 ):\n",
    "            L.append((x,y/3))\n",
    "        if( (y>=1) and ((y-1)%3==0)):\n",
    "            L.append((x,(y-1)/3))\n",
    "    return L\n",
    "\n",
    "def combine_steps(l):\n",
    "    L=[]\n",
    "    for e in l:\n",
    "        p = [2]*int(e[0]) + [3]*int(e[1])\n",
    "        L += list(set(it.permutations(p,len(p))))\n",
    "    return L\n",
    "\n",
    "def steps_to_index(l,begin):\n",
    "    l = [begin] + l\n",
    "    for i in range(1,len(l)):\n",
    "        l[i] += l[i-1]\n",
    "    return l\n",
    "    \n",
    "def compute_rob_index(n, begin):\n",
    "    houses_rob_index = []\n",
    "    for e in combine_steps(compute_steps(n-begin)):\n",
    "        houses_rob_index.append(steps_to_index(list(e),begin))\n",
    "    return houses_rob_index"
   ]
  },
  {
   "cell_type": "code",
   "execution_count": 54,
   "metadata": {},
   "outputs": [
    {
     "name": "stdout",
     "output_type": "stream",
     "text": [
      "[10]\n"
     ]
    },
    {
     "data": {
      "text/plain": [
       "112"
      ]
     },
     "execution_count": 54,
     "metadata": {},
     "output_type": "execute_result"
    }
   ],
   "source": [
    "house = np.random.randint(0,50,1)\n",
    "def max_rob(arr):\n",
    "    n = len(arr)-1\n",
    "    sum_rob = []\n",
    "    for e in compute_rob_index(n,0)+compute_rob_index(n,1):\n",
    "        sum_rob.append(arr[e].sum())\n",
    "    return max(sum_rob)\n",
    "\n",
    "print(list(house))\n",
    "max_rob(np.array([13,20,1,24,12,12,20,24,24,24,24]) )"
   ]
  },
  {
   "cell_type": "markdown",
   "metadata": {},
   "source": [
    "Solution 2 - Work only if there is no duplicates"
   ]
  },
  {
   "cell_type": "code",
   "execution_count": 53,
   "metadata": {},
   "outputs": [
    {
     "data": {
      "text/plain": [
       "104"
      ]
     },
     "execution_count": 53,
     "metadata": {},
     "output_type": "execute_result"
    }
   ],
   "source": [
    "A = [40,13,20,47,15,27,9,31,14,12,5]\n",
    "L = [14,3,20,6,8,1,12]\n",
    "H = [14,13,12,31,31]\n",
    "\n",
    "def robMax(l):\n",
    "    R = 0\n",
    "    while(sum(l) > -len(l)):\n",
    "        R+=max(l)\n",
    "        i = l.index(max(l))\n",
    "        isFirst, isLast  = int(i!=0), int(i!=len(l)-1)\n",
    "        l[i-isFirst : i+1+isLast] = [-1] * (3 - (not isFirst or not isLast))\n",
    "    return R\n",
    "\n",
    "robMax([13,20,1,24,12,12,20,24,24,24,24])\n",
    "#robMax([400,30,24,200])"
   ]
  },
  {
   "cell_type": "code",
   "execution_count": 2,
   "metadata": {},
   "outputs": [
    {
     "name": "stdout",
     "output_type": "stream",
     "text": [
      "[7, 11, 8, 8, 12, 2]\n",
      "[7, 11, 8, 8]\n"
     ]
    }
   ],
   "source": [
    "import numpy as np\n",
    "arr = list(np.random.randint(0,20,6))\n",
    "print(arr)\n",
    "print(arr[:-2])"
   ]
  },
  {
   "cell_type": "code",
   "execution_count": 52,
   "metadata": {},
   "outputs": [
    {
     "data": {
      "text/plain": [
       "112"
      ]
     },
     "execution_count": 52,
     "metadata": {},
     "output_type": "execute_result"
    }
   ],
   "source": [
    "def rob(l):\n",
    "    N, n = len(l), len(l)-1\n",
    "    if N==0:\n",
    "        return 0 \n",
    "    elif N==1 or N==2:\n",
    "        return max(l) \n",
    "    else:\n",
    "        return max(l[n]+rob(l[:-2]),rob(l[:-1]))\n",
    "    \n",
    "\n",
    "rob([13,20,1,24,12,12,20,24,24,24,24])\n",
    "#rob([400,30,24,200]) "
   ]
  },
  {
   "cell_type": "code",
   "execution_count": 69,
   "metadata": {},
   "outputs": [
    {
     "data": {
      "text/plain": [
       "112"
      ]
     },
     "execution_count": 69,
     "metadata": {},
     "output_type": "execute_result"
    }
   ],
   "source": [
    "def rob2(nums):\n",
    "    n = len(nums)\n",
    "    if n==0: return 0\n",
    "    elif n==1 or n==2: return max(nums)\n",
    "    else:\n",
    "        v1,v2 = 0, nums[0]\n",
    "        for i in range(1,n):\n",
    "            temp, v2 = v2, max(nums[i]+v1, v2)\n",
    "            v1 = temp\n",
    "    return v2\n",
    "\n",
    "\n",
    "rob2([13,20,1,24,12,12,20,24,24,24,24])\n",
    "#rob2([432,30,24,200]) "
   ]
  },
  {
   "cell_type": "code",
   "execution_count": 71,
   "metadata": {},
   "outputs": [],
   "source": [
    "l = [432,30,24,200]"
   ]
  },
  {
   "cell_type": "code",
   "execution_count": 72,
   "metadata": {},
   "outputs": [
    {
     "data": {
      "text/plain": [
       "[30, 24, 200]"
      ]
     },
     "execution_count": 72,
     "metadata": {},
     "output_type": "execute_result"
    }
   ],
   "source": [
    "l[1:]"
   ]
  },
  {
   "cell_type": "code",
   "execution_count": null,
   "metadata": {},
   "outputs": [],
   "source": []
  }
 ],
 "metadata": {
  "kernelspec": {
   "display_name": "Python 3",
   "language": "python",
   "name": "python3"
  },
  "language_info": {
   "codemirror_mode": {
    "name": "ipython",
    "version": 3
   },
   "file_extension": ".py",
   "mimetype": "text/x-python",
   "name": "python",
   "nbconvert_exporter": "python",
   "pygments_lexer": "ipython3",
   "version": "3.8.3"
  }
 },
 "nbformat": 4,
 "nbformat_minor": 4
}
